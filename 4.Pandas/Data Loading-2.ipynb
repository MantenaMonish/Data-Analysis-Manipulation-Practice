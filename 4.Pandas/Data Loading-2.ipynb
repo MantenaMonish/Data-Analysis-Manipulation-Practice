{
 "cells": [
  {
   "cell_type": "code",
   "execution_count": 5,
   "id": "b3ccc89b",
   "metadata": {},
   "outputs": [
    {
     "data": {
      "text/html": [
       "<div>\n",
       "<style scoped>\n",
       "    .dataframe tbody tr th:only-of-type {\n",
       "        vertical-align: middle;\n",
       "    }\n",
       "\n",
       "    .dataframe tbody tr th {\n",
       "        vertical-align: top;\n",
       "    }\n",
       "\n",
       "    .dataframe thead th {\n",
       "        text-align: right;\n",
       "    }\n",
       "</style>\n",
       "<table border=\"1\" class=\"dataframe\">\n",
       "  <thead>\n",
       "    <tr style=\"text-align: right;\">\n",
       "      <th></th>\n",
       "      <th>a</th>\n",
       "      <th>b</th>\n",
       "      <th>c</th>\n",
       "      <th>d</th>\n",
       "      <th>message</th>\n",
       "    </tr>\n",
       "  </thead>\n",
       "  <tbody>\n",
       "    <tr>\n",
       "      <th>0</th>\n",
       "      <td>1</td>\n",
       "      <td>2</td>\n",
       "      <td>3</td>\n",
       "      <td>4</td>\n",
       "      <td>hello</td>\n",
       "    </tr>\n",
       "    <tr>\n",
       "      <th>1</th>\n",
       "      <td>5</td>\n",
       "      <td>6</td>\n",
       "      <td>7</td>\n",
       "      <td>8</td>\n",
       "      <td>world</td>\n",
       "    </tr>\n",
       "    <tr>\n",
       "      <th>2</th>\n",
       "      <td>9</td>\n",
       "      <td>10</td>\n",
       "      <td>11</td>\n",
       "      <td>12</td>\n",
       "      <td>foo</td>\n",
       "    </tr>\n",
       "  </tbody>\n",
       "</table>\n",
       "</div>"
      ],
      "text/plain": [
       "   a   b   c   d message\n",
       "0  1   2   3   4   hello\n",
       "1  5   6   7   8   world\n",
       "2  9  10  11  12     foo"
      ]
     },
     "execution_count": 5,
     "metadata": {},
     "output_type": "execute_result"
    }
   ],
   "source": [
    "# Binary Data Formats\n",
    "\n",
    "# One of the easiest ways to store data efficiently in binary format is using Python’s built\n",
    "# in \"pickle\" serialization. Conveniently, pandas objects all have a save method which\n",
    "# writes the data to disk as a pickle\n",
    "\n",
    "import pandas as pd\n",
    "import numpy as np\n",
    "\n",
    "frame=pd.read_csv('ch06ex1.csv')\n",
    "frame"
   ]
  },
  {
   "cell_type": "code",
   "execution_count": 6,
   "id": "170eef5a",
   "metadata": {},
   "outputs": [
    {
     "ename": "AttributeError",
     "evalue": "'DataFrame' object has no attribute 'save'",
     "output_type": "error",
     "traceback": [
      "\u001b[1;31m---------------------------------------------------------------------------\u001b[0m",
      "\u001b[1;31mAttributeError\u001b[0m                            Traceback (most recent call last)",
      "\u001b[1;32m~\\AppData\\Local\\Temp\\ipykernel_19116\\1056238006.py\u001b[0m in \u001b[0;36m<module>\u001b[1;34m\u001b[0m\n\u001b[1;32m----> 1\u001b[1;33m \u001b[0mframe\u001b[0m\u001b[1;33m.\u001b[0m\u001b[0msave\u001b[0m\u001b[1;33m(\u001b[0m\u001b[1;34m'ch06frame_pickle'\u001b[0m\u001b[1;33m)\u001b[0m \u001b[1;31m#i did not create the ch06frame file\u001b[0m\u001b[1;33m\u001b[0m\u001b[1;33m\u001b[0m\u001b[0m\n\u001b[0m\u001b[0;32m      2\u001b[0m \u001b[1;33m\u001b[0m\u001b[0m\n\u001b[0;32m      3\u001b[0m \u001b[1;31m#You read the data back into Python with pandas.load, another pickle convenience function\u001b[0m\u001b[1;33m\u001b[0m\u001b[1;33m\u001b[0m\u001b[0m\n\u001b[0;32m      4\u001b[0m \u001b[1;33m\u001b[0m\u001b[0m\n\u001b[0;32m      5\u001b[0m \u001b[0mframe\u001b[0m\u001b[1;33m.\u001b[0m\u001b[0mload\u001b[0m\u001b[1;33m(\u001b[0m\u001b[1;34m'ch06frame_pickle'\u001b[0m\u001b[1;33m)\u001b[0m\u001b[1;33m\u001b[0m\u001b[1;33m\u001b[0m\u001b[0m\n",
      "\u001b[1;32m~\\anaconda3\\lib\\site-packages\\pandas\\core\\generic.py\u001b[0m in \u001b[0;36m__getattr__\u001b[1;34m(self, name)\u001b[0m\n\u001b[0;32m   5573\u001b[0m         ):\n\u001b[0;32m   5574\u001b[0m             \u001b[1;32mreturn\u001b[0m \u001b[0mself\u001b[0m\u001b[1;33m[\u001b[0m\u001b[0mname\u001b[0m\u001b[1;33m]\u001b[0m\u001b[1;33m\u001b[0m\u001b[1;33m\u001b[0m\u001b[0m\n\u001b[1;32m-> 5575\u001b[1;33m         \u001b[1;32mreturn\u001b[0m \u001b[0mobject\u001b[0m\u001b[1;33m.\u001b[0m\u001b[0m__getattribute__\u001b[0m\u001b[1;33m(\u001b[0m\u001b[0mself\u001b[0m\u001b[1;33m,\u001b[0m \u001b[0mname\u001b[0m\u001b[1;33m)\u001b[0m\u001b[1;33m\u001b[0m\u001b[1;33m\u001b[0m\u001b[0m\n\u001b[0m\u001b[0;32m   5576\u001b[0m \u001b[1;33m\u001b[0m\u001b[0m\n\u001b[0;32m   5577\u001b[0m     \u001b[1;32mdef\u001b[0m \u001b[0m__setattr__\u001b[0m\u001b[1;33m(\u001b[0m\u001b[0mself\u001b[0m\u001b[1;33m,\u001b[0m \u001b[0mname\u001b[0m\u001b[1;33m:\u001b[0m \u001b[0mstr\u001b[0m\u001b[1;33m,\u001b[0m \u001b[0mvalue\u001b[0m\u001b[1;33m)\u001b[0m \u001b[1;33m->\u001b[0m \u001b[1;32mNone\u001b[0m\u001b[1;33m:\u001b[0m\u001b[1;33m\u001b[0m\u001b[1;33m\u001b[0m\u001b[0m\n",
      "\u001b[1;31mAttributeError\u001b[0m: 'DataFrame' object has no attribute 'save'"
     ]
    }
   ],
   "source": [
    "frame.save('ch06frame_pickle') #i did not create the ch06frame file\n",
    "\n",
    "#You read the data back into Python with pandas.load, another pickle convenience function\n",
    "\n",
    "frame.load('ch06frame_pickle')\n",
    "\n",
    "# o/p:\n",
    "#        a   b   c   d message\n",
    "#  0  1   2   3   4   hello\n",
    "#  1  5   6   7   8   world\n",
    "#  2  9  10  11  12     foo"
   ]
  },
  {
   "cell_type": "code",
   "execution_count": null,
   "id": "d4c14728",
   "metadata": {},
   "outputs": [],
   "source": [
    "# Using HDF5 Format\n",
    "\n",
    "# There are a number of tools that facilitate efficiently reading and writing large amounts\n",
    "# of scientific data in binary format on disk. A popular industry-grade library for this is\n",
    "# “HDF” in HDF5 stands for hierarchical data format\n",
    "\n",
    "# pandas has a minimal dict-like HDFStore class, which uses PyTables to store pandas\n",
    "# objects\n",
    "\n",
    "store=pd.HDFStore('mydata.h5')\n",
    "store['obj1']=frame\n",
    "store['obj1_col']=frame['a']\n",
    "store"
   ]
  },
  {
   "cell_type": "code",
   "execution_count": null,
   "id": "f4c9fa9d",
   "metadata": {},
   "outputs": [],
   "source": [
    "store['obj1']"
   ]
  },
  {
   "cell_type": "code",
   "execution_count": null,
   "id": "11b81b3b",
   "metadata": {},
   "outputs": [],
   "source": [
    "store['obj1_col']\n",
    "\n",
    "# HDF5 is not a database. It is best suited for write-once, read-many da\n",
    "# tasets. While data can be added to a file at any time, if multiple writers\n",
    "# do so simultaneously, the file can become corrupted."
   ]
  },
  {
   "cell_type": "code",
   "execution_count": null,
   "id": "34d7c508",
   "metadata": {},
   "outputs": [],
   "source": [
    "# Reading Microsoft Excel Files\n",
    "\n",
    "# pandas also supports reading tabular data stored in Excel 2003 (and higher) files using\n",
    "# the ExcelFile class. Interally ExcelFile uses the xlrd and openpyxl packages, so you\n",
    "# may have to install them first. To use ExcelFile, create an instance by passing a path\n",
    "# to an xls or xlsx file\n",
    "\n",
    "xls_file=pd.ExcelFile('data.xlsx') # does not work need to create file\n",
    "\n",
    "#  Data stored in a sheet can then be read into DataFrame using parse\n",
    "\n",
    "t"
   ]
  },
  {
   "cell_type": "code",
   "execution_count": null,
   "id": "27161513",
   "metadata": {},
   "outputs": [],
   "source": [
    "# Interacting with HTML and Web APIs\n",
    "\n",
    "import requests\n",
    "\n",
    "url= 'http://search.twitter.com/search.json?q=python%20pandas'\n",
    "r=requests.get(url)\n",
    "print(r.text)\n",
    "\n",
    "#  The Response object’s text attribute contains the content of the GET query."
   ]
  },
  {
   "cell_type": "code",
   "execution_count": null,
   "id": "4a28b3ef",
   "metadata": {},
   "outputs": [],
   "source": [
    "# Many web APIs will return a JSON string that must be loaded into a Python object\n",
    "\n",
    "import json\n",
    "data=json.loads(r.text)\n",
    "\n",
    "data.keys()"
   ]
  },
  {
   "cell_type": "code",
   "execution_count": 7,
   "id": "a428d156",
   "metadata": {},
   "outputs": [],
   "source": [
    "# The results field in the response contains a list of tweets, each of which is represented\n",
    "#  as a Python dict that looks like:\n",
    "#  {u'created_at': u'Mon, 25 Jun 2012 17:50:33 +0000',\n",
    "#  u'from_user': u'wesmckinn',\n",
    "#  u'from_user_id': 115494880,\n",
    "#  u'from_user_id_str': u'115494880',\n",
    "#  u'from_user_name': u'Wes McKinney',\n",
    "#  u'geo': None,\n",
    "#  u'id': 217313849177686018,\n",
    "#  u'id_str': u'217313849177686018',\n",
    "#  u'iso_language_code': u'pt',\n",
    "#  u'metadata': {u'result_type': u'recent'},\n",
    "#  u'source': u'<a href=\"http://twitter.com/\">web</a>',\n",
    "#  u'text': u'Lunchtime pandas-fu http://t.co/SI70xZZQ #pydata',\n",
    "#  u'to_user': None,\n",
    "#  u'to_user_id': 0,\n",
    "#  u'to_user_id_str': u'0',\n",
    "#  u'to_user_name': None}"
   ]
  },
  {
   "cell_type": "code",
   "execution_count": 8,
   "id": "11a6f564",
   "metadata": {},
   "outputs": [
    {
     "ename": "KeyError",
     "evalue": "'results'",
     "output_type": "error",
     "traceback": [
      "\u001b[1;31m---------------------------------------------------------------------------\u001b[0m",
      "\u001b[1;31mKeyError\u001b[0m                                  Traceback (most recent call last)",
      "\u001b[1;32m~\\AppData\\Local\\Temp\\ipykernel_19116\\2929562342.py\u001b[0m in \u001b[0;36m<module>\u001b[1;34m\u001b[0m\n\u001b[0;32m      2\u001b[0m \u001b[1;33m\u001b[0m\u001b[0m\n\u001b[0;32m      3\u001b[0m \u001b[0mtweet_files\u001b[0m\u001b[1;33m=\u001b[0m\u001b[1;33m[\u001b[0m\u001b[1;34m'craeted_at'\u001b[0m\u001b[1;33m,\u001b[0m\u001b[1;34m'from_user'\u001b[0m\u001b[1;33m,\u001b[0m\u001b[1;34m'id'\u001b[0m\u001b[1;33m,\u001b[0m\u001b[1;34m'text'\u001b[0m\u001b[1;33m]\u001b[0m\u001b[1;33m\u001b[0m\u001b[1;33m\u001b[0m\u001b[0m\n\u001b[1;32m----> 4\u001b[1;33m \u001b[0mtweets\u001b[0m\u001b[1;33m=\u001b[0m\u001b[0mpd\u001b[0m\u001b[1;33m.\u001b[0m\u001b[0mDataFrame\u001b[0m\u001b[1;33m(\u001b[0m\u001b[0mdata\u001b[0m\u001b[1;33m[\u001b[0m\u001b[1;34m'results'\u001b[0m\u001b[1;33m]\u001b[0m\u001b[1;33m,\u001b[0m\u001b[0mcolumns\u001b[0m\u001b[1;33m=\u001b[0m\u001b[0mtweets_files\u001b[0m\u001b[1;33m)\u001b[0m\u001b[1;33m\u001b[0m\u001b[1;33m\u001b[0m\u001b[0m\n\u001b[0m\u001b[0;32m      5\u001b[0m \u001b[0mprint\u001b[0m\u001b[1;33m(\u001b[0m\u001b[0mtweets\u001b[0m\u001b[1;33m)\u001b[0m\u001b[1;33m\u001b[0m\u001b[1;33m\u001b[0m\u001b[0m\n",
      "\u001b[1;31mKeyError\u001b[0m: 'results'"
     ]
    }
   ],
   "source": [
    "# We can then make a list of the tweet fields of interest then pass the results list to DataFrame\n",
    "\n",
    "tweet_files=['craeted_at','from_user','id','text']\n",
    "tweets=pd.DataFrame(data['results'],columns=tweets_files)\n",
    "print(tweets)"
   ]
  },
  {
   "cell_type": "code",
   "execution_count": null,
   "id": "b8e2743b",
   "metadata": {},
   "outputs": [],
   "source": [
    "# Each row in the DataFrame now has the extracted data from each tweet\n",
    "tweets.ix[7]"
   ]
  },
  {
   "cell_type": "code",
   "execution_count": null,
   "id": "74b3a380",
   "metadata": {},
   "outputs": [],
   "source": [
    "#  Interacting with Databases (Just revise fro book)"
   ]
  },
  {
   "cell_type": "code",
   "execution_count": null,
   "id": "99476aa3",
   "metadata": {},
   "outputs": [],
   "source": [
    "# Storing and Loading Data in MongoDB (Just revise fro book)"
   ]
  }
 ],
 "metadata": {
  "kernelspec": {
   "display_name": "Python 3 (ipykernel)",
   "language": "python",
   "name": "python3"
  },
  "language_info": {
   "codemirror_mode": {
    "name": "ipython",
    "version": 3
   },
   "file_extension": ".py",
   "mimetype": "text/x-python",
   "name": "python",
   "nbconvert_exporter": "python",
   "pygments_lexer": "ipython3",
   "version": "3.9.13"
  }
 },
 "nbformat": 4,
 "nbformat_minor": 5
}
