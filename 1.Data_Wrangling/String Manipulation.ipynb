{
 "cells": [
  {
   "cell_type": "code",
   "execution_count": 2,
   "id": "75f7b106",
   "metadata": {},
   "outputs": [
    {
     "data": {
      "text/plain": [
       "['hero', 'villain ', '  side']"
      ]
     },
     "execution_count": 2,
     "metadata": {},
     "output_type": "execute_result"
    }
   ],
   "source": [
    "# String Object Methods\n",
    "\n",
    "#  In many string munging and scripting applications, built-in string methods are suffi\n",
    "# cient. As an example, a comma-separated string can be broken into pieces with split\n",
    "\n",
    "import pandas as pd\n",
    "import numpy as np\n",
    "\n",
    "val='hero,villain ,  side'\n",
    "val.split(',')"
   ]
  },
  {
   "cell_type": "code",
   "execution_count": 3,
   "id": "f0d2ab32",
   "metadata": {},
   "outputs": [
    {
     "data": {
      "text/plain": [
       "['hero', 'villain', 'side']"
      ]
     },
     "execution_count": 3,
     "metadata": {},
     "output_type": "execute_result"
    }
   ],
   "source": [
    "# split is often combined with strip to trim whitespace (including newlines)\n",
    "\n",
    "pieces=[x.strip() for x in val.split(',')]\n",
    "pieces"
   ]
  },
  {
   "cell_type": "code",
   "execution_count": 4,
   "id": "02ddf0b8",
   "metadata": {},
   "outputs": [
    {
     "name": "stdout",
     "output_type": "stream",
     "text": [
      "hero::villain::side\n"
     ]
    },
    {
     "data": {
      "text/plain": [
       "'hero::villain::side'"
      ]
     },
     "execution_count": 4,
     "metadata": {},
     "output_type": "execute_result"
    }
   ],
   "source": [
    "#  These substrings could be concatenated together with a two-colon delimiter using ad\n",
    "# dition:\n",
    "a,b,c=pieces\n",
    "print(a+'::'+b+\"::\"+c)\n",
    "\n",
    "#  But, this isn’t a practical generic method. A faster and more Pythonic way is to pass a\n",
    "#  list or tuple to the join method on the string '::':\n",
    "\n",
    "'::'.join(pieces)"
   ]
  },
  {
   "cell_type": "code",
   "execution_count": 5,
   "id": "93b38b8e",
   "metadata": {},
   "outputs": [
    {
     "name": "stdout",
     "output_type": "stream",
     "text": [
      "True\n",
      "4\n",
      "-1\n"
     ]
    }
   ],
   "source": [
    "#  Other methods are concerned with locating substrings. Using Python’s in keyword is\n",
    "#  the best way to detect a substring, though index and find can also be used\n",
    "\n",
    "print('side' in val)\n",
    "\n",
    "print(val.index(','))\n",
    "\n",
    "print(val.find(':'))"
   ]
  },
  {
   "cell_type": "code",
   "execution_count": 6,
   "id": "2166e3d6",
   "metadata": {},
   "outputs": [
    {
     "data": {
      "text/plain": [
       "2"
      ]
     },
     "execution_count": 6,
     "metadata": {},
     "output_type": "execute_result"
    }
   ],
   "source": [
    "# count returns the number of occurrences of a particular substring\n",
    "val.count(',')"
   ]
  },
  {
   "cell_type": "code",
   "execution_count": 7,
   "id": "18597d0a",
   "metadata": {},
   "outputs": [
    {
     "data": {
      "text/plain": [
       "'hero,,villain ,,  side'"
      ]
     },
     "execution_count": 7,
     "metadata": {},
     "output_type": "execute_result"
    }
   ],
   "source": [
    "# replace will substitute occurrences of one pattern for another. This is commonly used\n",
    "#  to delete patterns, too, by passing an empty string\n",
    "val.replace(',',',,')"
   ]
  },
  {
   "cell_type": "code",
   "execution_count": 9,
   "id": "aea644c4",
   "metadata": {},
   "outputs": [
    {
     "data": {
      "text/plain": [
       "['foo', 'bar', 'baz', 'qux']"
      ]
     },
     "execution_count": 9,
     "metadata": {},
     "output_type": "execute_result"
    }
   ],
   "source": [
    "# Regular expressions\n",
    "\n",
    "#  The re module functions fall into three categories: pattern matching, substitution, and\n",
    "#  splitting. Naturally these are all related; a regex describes a pattern to locate in the text,\n",
    "#  which can then be used for many purposes. Let’s look at a simple example: suppose I\n",
    "#  wanted to split a string with a variable number of whitespace characters (tabs, spaces,\n",
    "#  and newlines). The regex describing one or more whitespace characters is \\s+\n",
    "\n",
    "import re\n",
    "text=\"foo    bar\\t baz  \\tqux\"\n",
    "re.split('\\s+',text)\n",
    "\n",
    "# When you call re.split('\\s+', text), the regular expression is first compiled, then its\n",
    "#  split method is called on the passed text."
   ]
  },
  {
   "cell_type": "code",
   "execution_count": 10,
   "id": "ba074485",
   "metadata": {},
   "outputs": [
    {
     "data": {
      "text/plain": [
       "['foo', 'bar', 'baz', 'qux']"
      ]
     },
     "execution_count": 10,
     "metadata": {},
     "output_type": "execute_result"
    }
   ],
   "source": [
    "# You can compile the regex yourself with \n",
    "# re.compile, forming a reusable regex object:\n",
    "regex=re.compile('\\s+')\n",
    "regex.split(text)"
   ]
  },
  {
   "cell_type": "code",
   "execution_count": 12,
   "id": "8f4cf332",
   "metadata": {},
   "outputs": [
    {
     "data": {
      "text/plain": [
       "['    ', '\\t ', '  \\t']"
      ]
     },
     "execution_count": 12,
     "metadata": {},
     "output_type": "execute_result"
    }
   ],
   "source": [
    "# If, instead, you wanted to get a list of all patterns matching the regex, you can use the \n",
    "# findall method:\n",
    "regex.findall(text)"
   ]
  },
  {
   "cell_type": "code",
   "execution_count": 16,
   "id": "ba23ad05",
   "metadata": {},
   "outputs": [
    {
     "data": {
      "text/plain": [
       "['dave@google.com', 'steve@gmail.com', 'rob@gmail.com', 'ryan@yahoo.com']"
      ]
     },
     "execution_count": 16,
     "metadata": {},
     "output_type": "execute_result"
    }
   ],
   "source": [
    "# Creating a regex object with re.compile is highly recommended if you intend to apply\n",
    "#  the same expression to many strings; doing so will save CPU cycles\n",
    "\n",
    "#  match and search are closely related to findall. While findall returns all matches in a\n",
    "#  string, search returns only the first match. More rigidly, match only matches at the\n",
    "#  beginning of the string. As a less trivial example, let’s consider a block of text and a\n",
    "#  regular expression capable of identifying most email addresses\n",
    "\n",
    "text = \"\"\"Dave dave@google.com\n",
    "Steve steve@gmail.com\n",
    "Rob rob@gmail.com\n",
    "Ryan ryan@yahoo.com\n",
    "\"\"\"\n",
    "pattern= r'[A-Z0-9._%+-]+@[A-Z0-9.-]+\\.[A-Z]{2,4}'\n",
    "\n",
    "# re.IGNORECASE makes the regex case-insensitive\n",
    "regex=re.compile(pattern,flags=re.IGNORECASE)\n",
    "regex.findall(text)"
   ]
  },
  {
   "cell_type": "code",
   "execution_count": 18,
   "id": "6e0ba79e",
   "metadata": {},
   "outputs": [
    {
     "name": "stdout",
     "output_type": "stream",
     "text": [
      "<re.Match object; span=(5, 20), match='dave@google.com'>\n"
     ]
    },
    {
     "data": {
      "text/plain": [
       "'dave@google.com'"
      ]
     },
     "execution_count": 18,
     "metadata": {},
     "output_type": "execute_result"
    }
   ],
   "source": [
    "#  search returns a special match object for the first email address in the text. For the\n",
    "#  above regex, the match object can only tell us the start and end position of the pattern\n",
    "#  in the string\n",
    "m=regex.search(text)\n",
    "print(m)\n",
    "\n",
    "text[m.start():m.end()]"
   ]
  },
  {
   "cell_type": "code",
   "execution_count": 22,
   "id": "a9dba522",
   "metadata": {},
   "outputs": [
    {
     "name": "stdout",
     "output_type": "stream",
     "text": [
      "None\n"
     ]
    }
   ],
   "source": [
    "#  regex.match returns None, as it only will match if the pattern occurs at the start of the\n",
    "#  string\n",
    "print(regex.match(text))"
   ]
  },
  {
   "cell_type": "code",
   "execution_count": 23,
   "id": "e495755e",
   "metadata": {},
   "outputs": [
    {
     "name": "stdout",
     "output_type": "stream",
     "text": [
      "Dave fool\n",
      "Steve fool\n",
      "Rob fool\n",
      "Ryan fool\n",
      "\n"
     ]
    }
   ],
   "source": [
    "# Relatedly, sub will return a new string with occurrences of the pattern replaced by the\n",
    "#  a new string\n",
    "\n",
    "print(regex.sub('fool',text))"
   ]
  },
  {
   "cell_type": "code",
   "execution_count": 24,
   "id": "ab3c4b6d",
   "metadata": {},
   "outputs": [
    {
     "data": {
      "text/plain": [
       "('wesm', 'bright', 'net')"
      ]
     },
     "execution_count": 24,
     "metadata": {},
     "output_type": "execute_result"
    }
   ],
   "source": [
    "#  Suppose you wanted to find email addresses and simultaneously segment each address\n",
    "#  into its 3 components: username, domain name, and domain suffix. To do this, put\n",
    "#  parentheses around the parts of the pattern to segment:\n",
    "    \n",
    "pattern = r'([A-Z0-9._%+-]+)@([A-Z0-9.-]+)\\.([A-Z]{2,4})'\n",
    "\n",
    "regex=re.compile(pattern,flags=re.IGNORECASE)\n",
    "\n",
    "#  A match object produced by this modified regex returns a tuple of the pattern compo\n",
    "# nents with its groups method\n",
    "\n",
    "m=regex.match('wesm@bright.net')\n",
    "m.groups()"
   ]
  },
  {
   "cell_type": "code",
   "execution_count": 25,
   "id": "a4c13a3d",
   "metadata": {},
   "outputs": [
    {
     "data": {
      "text/plain": [
       "[('dave', 'google', 'com'),\n",
       " ('steve', 'gmail', 'com'),\n",
       " ('rob', 'gmail', 'com'),\n",
       " ('ryan', 'yahoo', 'com')]"
      ]
     },
     "execution_count": 25,
     "metadata": {},
     "output_type": "execute_result"
    }
   ],
   "source": [
    "# findall returns a list of tuples when the pattern has groups:\n",
    "regex.findall(text)"
   ]
  },
  {
   "cell_type": "code",
   "execution_count": 26,
   "id": "9f33bb11",
   "metadata": {},
   "outputs": [
    {
     "name": "stdout",
     "output_type": "stream",
     "text": [
      "Dave Username: dave, Domain: google, Suffix: com\n",
      "Steve Username: steve, Domain: gmail, Suffix: com\n",
      "Rob Username: rob, Domain: gmail, Suffix: com\n",
      "Ryan Username: ryan, Domain: yahoo, Suffix: com\n",
      "\n"
     ]
    }
   ],
   "source": [
    "# sub also has access to groups in each match using special symbols like \\1, \\2, etc.:\n",
    "\n",
    "print(regex.sub(r'Username: \\1, Domain: \\2, Suffix: \\3', text))"
   ]
  },
  {
   "cell_type": "code",
   "execution_count": 27,
   "id": "406784b9",
   "metadata": {},
   "outputs": [
    {
     "data": {
      "text/plain": [
       "{'username': 'wesm', 'domain': 'bright', 'suffix': 'net'}"
      ]
     },
     "execution_count": 27,
     "metadata": {},
     "output_type": "execute_result"
    }
   ],
   "source": [
    "# There is much more to regular expressions in Python, most of which is outside the\n",
    "#  book’s scope. To give you a flavor, one variation on the above email regex gives names\n",
    "#  to the match groups:\n",
    "\n",
    "regex = re.compile(r\"\"\"\n",
    "    (?P<username>[A-Z0-9._%+-]+)\n",
    "    @\n",
    "    (?P<domain>[A-Z0-9.-]+)\n",
    "    \\.\n",
    "    (?P<suffix>[A-Z]{2,4})\"\"\", flags=re.IGNORECASE|re.VERBOSE)\n",
    "\n",
    "#  The match object produced by such a regex can produce a handy dict with the specified\n",
    "#  group names:\n",
    "\n",
    "m = regex.match('wesm@bright.net')\n",
    "m.groupdict()"
   ]
  },
  {
   "cell_type": "code",
   "execution_count": null,
   "id": "a5f24168",
   "metadata": {},
   "outputs": [],
   "source": [
    "#  Table 7-4. Regular expression methods\n",
    "#  Argument                      Description\n",
    "\n",
    "#  findall, finditer             Return all non-overlapping matching patterns in a string. findall returns a list of all\n",
    "#                                patterns while finditer returns them one by one from an iterator.\n",
    "    \n",
    "#  match                          Match pattern at start of string and optionally segment pattern components into groups.\n",
    "#                                 If the pattern matches, returns a match object, otherwise None.\n",
    "\n",
    "#  search                         Scan string for match to pattern; returning a match object if so. Unlike match, the match\n",
    "#                                 can be anywhere in the string as opposed to only at the beginning.\n",
    "    \n",
    "#  split                          Break string into pieces at each occurrence of pattern.\n",
    "   \n",
    "#  sub, subn                      Replace all (sub) or first n occurrences (subn) of pattern in string with replacement\n",
    "#                                 expression. Use symbols \\1, \\2, ... to refer to match group elements in the re\n",
    "#                                 placement string.\n",
    "    "
   ]
  },
  {
   "cell_type": "code",
   "execution_count": 30,
   "id": "804584ad",
   "metadata": {},
   "outputs": [
    {
     "name": "stdout",
     "output_type": "stream",
     "text": [
      "Dave     dave@google.com\n",
      "Steve    steve@gmail.com\n",
      "Rob        rob@gmail.com\n",
      "Wes                  NaN\n",
      "dtype: object\n"
     ]
    },
    {
     "data": {
      "text/plain": [
       "Dave     False\n",
       "Steve    False\n",
       "Rob      False\n",
       "Wes       True\n",
       "dtype: bool"
      ]
     },
     "execution_count": 30,
     "metadata": {},
     "output_type": "execute_result"
    }
   ],
   "source": [
    "# Vectorized string functions in pandas\n",
    "\n",
    "#  Cleaning up a messy data set for analysis often requires a lot of string munging and\n",
    "#  regularization. To complicate matters, a column containing strings will sometimes have\n",
    "#  missing data:\n",
    "\n",
    "data = {'Dave': 'dave@google.com', \n",
    "        'Steve': 'steve@gmail.com',\n",
    "        'Rob': 'rob@gmail.com', \n",
    "        'Wes': np.nan}\n",
    "data=pd.Series(data)\n",
    "print(data)\n",
    "\n",
    "data.isnull()"
   ]
  },
  {
   "cell_type": "code",
   "execution_count": 31,
   "id": "70ceaa30",
   "metadata": {},
   "outputs": [
    {
     "data": {
      "text/plain": [
       "Dave     False\n",
       "Steve     True\n",
       "Rob       True\n",
       "Wes        NaN\n",
       "dtype: object"
      ]
     },
     "execution_count": 31,
     "metadata": {},
     "output_type": "execute_result"
    }
   ],
   "source": [
    "# String and regular expression methods can be applied (passing a lambda or other func\n",
    "# tion) to each value using data.map, but it will fail on the NA. To cope with this, Series\n",
    "#  has concise methods for string operations that skip NA values. These are accessed\n",
    "#  through Series’s str attribute; for example, we could check whether each email address\n",
    "#  has 'gmail' in it with str.contains\n",
    "\n",
    "data.str.contains('gmail')"
   ]
  },
  {
   "cell_type": "code",
   "execution_count": 33,
   "id": "a7689f4f",
   "metadata": {},
   "outputs": [
    {
     "name": "stdout",
     "output_type": "stream",
     "text": [
      "([A-Z0-9._%+-]+)@([A-Z0-9.-]+)\\.([A-Z]{2,4})\n"
     ]
    },
    {
     "data": {
      "text/plain": [
       "Dave     [(dave, google, com)]\n",
       "Steve    [(steve, gmail, com)]\n",
       "Rob        [(rob, gmail, com)]\n",
       "Wes                        NaN\n",
       "dtype: object"
      ]
     },
     "execution_count": 33,
     "metadata": {},
     "output_type": "execute_result"
    }
   ],
   "source": [
    "# Regular expressions can be used, too, along with any re options like IGNORECASE\n",
    "print(pattern)\n",
    "\n",
    "data.str.findall(pattern,flags=re.IGNORECASE)"
   ]
  },
  {
   "cell_type": "code",
   "execution_count": 40,
   "id": "a4a61881",
   "metadata": {},
   "outputs": [
    {
     "name": "stdout",
     "output_type": "stream",
     "text": [
      "Dave     True\n",
      "Steve    True\n",
      "Rob      True\n",
      "Wes       NaN\n",
      "dtype: object\n"
     ]
    }
   ],
   "source": [
    "#  There are a couple of ways to do vectorized element retrieval. Either use str.get or\n",
    "#  index into the str attribute:\n",
    "matches=data.str.match(pattern,flags=re.IGNORECASE)\n",
    "print(matches)\n",
    "\n",
    "# matches.str.get(1))    NOT WORKING\n",
    "# print('')\n",
    "# matches.str[0]"
   ]
  },
  {
   "cell_type": "code",
   "execution_count": 41,
   "id": "d12a8fac",
   "metadata": {},
   "outputs": [
    {
     "data": {
      "text/plain": [
       "Dave     dave@\n",
       "Steve    steve\n",
       "Rob      rob@g\n",
       "Wes        NaN\n",
       "dtype: object"
      ]
     },
     "execution_count": 41,
     "metadata": {},
     "output_type": "execute_result"
    }
   ],
   "source": [
    "#  You can similarly slice strings using this syntax:\n",
    "\n",
    "data.str[:5]"
   ]
  },
  {
   "cell_type": "code",
   "execution_count": null,
   "id": "ed8c3d71",
   "metadata": {},
   "outputs": [],
   "source": [
    "# Table 7-5. Vectorized string methods PAGE:212"
   ]
  },
  {
   "cell_type": "code",
   "execution_count": null,
   "id": "afd40632",
   "metadata": {},
   "outputs": [],
   "source": [
    "# END"
   ]
  }
 ],
 "metadata": {
  "kernelspec": {
   "display_name": "Python 3 (ipykernel)",
   "language": "python",
   "name": "python3"
  },
  "language_info": {
   "codemirror_mode": {
    "name": "ipython",
    "version": 3
   },
   "file_extension": ".py",
   "mimetype": "text/x-python",
   "name": "python",
   "nbconvert_exporter": "python",
   "pygments_lexer": "ipython3",
   "version": "3.9.13"
  }
 },
 "nbformat": 4,
 "nbformat_minor": 5
}
